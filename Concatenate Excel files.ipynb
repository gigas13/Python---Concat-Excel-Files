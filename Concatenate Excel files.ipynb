{
 "cells": [
  {
   "cell_type": "markdown",
   "id": "5d8f0609",
   "metadata": {},
   "source": [
    "## Concatenate several excel files with same structure into one single file"
   ]
  },
  {
   "cell_type": "code",
   "execution_count": 1,
   "id": "78e46c12",
   "metadata": {},
   "outputs": [],
   "source": [
    "from os import listdir\n",
    "import pandas as pd"
   ]
  },
  {
   "cell_type": "code",
   "execution_count": 2,
   "id": "8c6628e3",
   "metadata": {},
   "outputs": [],
   "source": [
    "mypath = '..\\Concatanate Excel Files'      #Excel files are stored here"
   ]
  },
  {
   "cell_type": "code",
   "execution_count": 3,
   "id": "e8815160",
   "metadata": {},
   "outputs": [
    {
     "data": {
      "text/plain": [
       "['.ipynb_checkpoints',\n",
       " 'Concatenate Excel files.ipynb',\n",
       " 'File1.xlsx',\n",
       " 'File2.xlsx',\n",
       " 'File3.xlsx',\n",
       " 'File4.xlsx',\n",
       " 'Outcome']"
      ]
     },
     "execution_count": 3,
     "metadata": {},
     "output_type": "execute_result"
    }
   ],
   "source": [
    "listdir(mypath)                             #listdir lists the file names in the directory"
   ]
  },
  {
   "cell_type": "code",
   "execution_count": 4,
   "id": "4bcbaef4",
   "metadata": {},
   "outputs": [
    {
     "data": {
      "text/plain": [
       "['File1.xlsx', 'File2.xlsx', 'File3.xlsx', 'File4.xlsx']"
      ]
     },
     "execution_count": 4,
     "metadata": {},
     "output_type": "execute_result"
    }
   ],
   "source": [
    "# list comprehension of names of excel file in the folder. The goal is to pick up only .xlsx files\n",
    "listxls = [f for f in listdir(mypath) if '.xlsx' in f]\n",
    "listxls"
   ]
  },
  {
   "cell_type": "code",
   "execution_count": 5,
   "id": "74fd065a",
   "metadata": {},
   "outputs": [
    {
     "data": {
      "text/plain": [
       "[(1, 'File1.xlsx'), (2, 'File2.xlsx'), (3, 'File3.xlsx'), (4, 'File4.xlsx')]"
      ]
     },
     "execution_count": 5,
     "metadata": {},
     "output_type": "execute_result"
    }
   ],
   "source": [
    "list(enumerate(listxls,1))"
   ]
  },
  {
   "cell_type": "code",
   "execution_count": 6,
   "id": "113273a7",
   "metadata": {},
   "outputs": [],
   "source": [
    "## Create a dictionary where each single file is stored and accessible with numerical key (just to have them stored\n",
    "## in case I'd need to pick up one)\n",
    "dfdict = {}\n",
    "for i, file in list(enumerate(listxls,1)):\n",
    "    dfdict[i] = pd.read_excel(\".\\{}\".format(file))   "
   ]
  },
  {
   "cell_type": "code",
   "execution_count": 7,
   "id": "e2bd0402",
   "metadata": {},
   "outputs": [
    {
     "name": "stdout",
     "output_type": "stream",
     "text": [
      "   Id      Name  Age\n",
      "0  10   Antoine   52\n",
      "1  11     Marie   41\n",
      "2  12      Luis   25\n",
      "3  13     Anett   65\n",
      "4  14  Florence   25\n"
     ]
    }
   ],
   "source": [
    "print(dfdict[3]) #as example"
   ]
  },
  {
   "cell_type": "code",
   "execution_count": 8,
   "id": "b240e130",
   "metadata": {},
   "outputs": [],
   "source": [
    "# list of the content of each excel file\n",
    "dflist=[]\n",
    "for df in dfdict.values():\n",
    "    dflist.append(df)"
   ]
  },
  {
   "cell_type": "code",
   "execution_count": 9,
   "id": "45259f1b",
   "metadata": {},
   "outputs": [
    {
     "data": {
      "text/plain": [
       "[   Id Name  Age\n",
       " 0   1  Ugo   23\n",
       " 1   2  Ivo   53\n",
       " 2   3  Lea   35,\n",
       "    Id  Name  Age\n",
       " 0   5  Mark   46\n",
       " 1   7  John   13\n",
       " 2   6  Carl   26]"
      ]
     },
     "execution_count": 9,
     "metadata": {},
     "output_type": "execute_result"
    }
   ],
   "source": [
    "dflist[:2] # first 2 Excel files listed"
   ]
  },
  {
   "cell_type": "code",
   "execution_count": 10,
   "id": "0699a987",
   "metadata": {},
   "outputs": [],
   "source": [
    "# concatenate all the files in dflist\n",
    "dftot = pd.concat(dflist)"
   ]
  },
  {
   "cell_type": "code",
   "execution_count": 11,
   "id": "e0f1b959",
   "metadata": {},
   "outputs": [],
   "source": [
    "# export the outcome\n",
    "with pd.ExcelWriter(\".\\Outcome\\Outcome.xlsx\") as writer:\n",
    "    dftot.to_excel(writer, index=False)"
   ]
  }
 ],
 "metadata": {
  "kernelspec": {
   "display_name": "Python 3",
   "language": "python",
   "name": "python3"
  },
  "language_info": {
   "codemirror_mode": {
    "name": "ipython",
    "version": 3
   },
   "file_extension": ".py",
   "mimetype": "text/x-python",
   "name": "python",
   "nbconvert_exporter": "python",
   "pygments_lexer": "ipython3",
   "version": "3.8.8"
  }
 },
 "nbformat": 4,
 "nbformat_minor": 5
}
